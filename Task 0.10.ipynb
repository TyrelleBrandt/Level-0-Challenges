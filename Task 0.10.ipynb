{
 "cells": [
  {
   "cell_type": "code",
   "execution_count": 1,
   "id": "ad9dfa49",
   "metadata": {},
   "outputs": [
    {
     "name": "stdout",
     "output_type": "stream",
     "text": [
      "house\n",
      "computers\n"
     ]
    }
   ],
   "source": [
    "str1 = input()\n",
    "str2 = input()"
   ]
  },
  {
   "cell_type": "code",
   "execution_count": 2,
   "id": "a976d53c",
   "metadata": {},
   "outputs": [
    {
     "name": "stdout",
     "output_type": "stream",
     "text": [
      "Common letters:  o u s e\n"
     ]
    }
   ],
   "source": [
    "result = []\n",
    "if (len(str1) < len(str2)):\n",
    "    for a in str1:\n",
    "        if(a in str2):\n",
    "            result.append(a)\n",
    "else:\n",
    "    for a in str2:\n",
    "        if(a in str1):\n",
    "            result.append(a)\n",
    "print('Common letters:', *result)"
   ]
  },
  {
   "cell_type": "code",
   "execution_count": null,
   "id": "8b8048f9",
   "metadata": {},
   "outputs": [],
   "source": []
  },
  {
   "cell_type": "code",
   "execution_count": null,
   "id": "115886d4",
   "metadata": {},
   "outputs": [],
   "source": []
  }
 ],
 "metadata": {
  "kernelspec": {
   "display_name": "Python 3",
   "language": "python",
   "name": "python3"
  },
  "language_info": {
   "codemirror_mode": {
    "name": "ipython",
    "version": 3
   },
   "file_extension": ".py",
   "mimetype": "text/x-python",
   "name": "python",
   "nbconvert_exporter": "python",
   "pygments_lexer": "ipython3",
   "version": "3.8.8"
  }
 },
 "nbformat": 4,
 "nbformat_minor": 5
}
