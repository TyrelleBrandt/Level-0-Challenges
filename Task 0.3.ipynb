{
 "cells": [
  {
   "cell_type": "code",
   "execution_count": 7,
   "id": "ccfa2590",
   "metadata": {},
   "outputs": [],
   "source": [
    "def greet(name):\n",
    "    print(f\"Hello {name}\" +\"!\")"
   ]
  },
  {
   "cell_type": "code",
   "execution_count": 8,
   "id": "91cefa03",
   "metadata": {},
   "outputs": [
    {
     "name": "stdout",
     "output_type": "stream",
     "text": [
      "Hello Tshepo!\n"
     ]
    }
   ],
   "source": [
    "greet('Tshepo')"
   ]
  },
  {
   "cell_type": "code",
   "execution_count": null,
   "id": "f8183d78",
   "metadata": {},
   "outputs": [],
   "source": []
  }
 ],
 "metadata": {
  "kernelspec": {
   "display_name": "Python 3",
   "language": "python",
   "name": "python3"
  },
  "language_info": {
   "codemirror_mode": {
    "name": "ipython",
    "version": 3
   },
   "file_extension": ".py",
   "mimetype": "text/x-python",
   "name": "python",
   "nbconvert_exporter": "python",
   "pygments_lexer": "ipython3",
   "version": "3.8.8"
  }
 },
 "nbformat": 4,
 "nbformat_minor": 5
}
