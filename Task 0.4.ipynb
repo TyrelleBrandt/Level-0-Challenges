{
 "cells": [
  {
   "cell_type": "code",
   "execution_count": 1,
   "id": "f40510d7",
   "metadata": {},
   "outputs": [
    {
     "name": "stdout",
     "output_type": "stream",
     "text": [
      "9\n"
     ]
    }
   ],
   "source": [
    "number = int(input())\n",
    "i = number % 2"
   ]
  },
  {
   "cell_type": "code",
   "execution_count": 2,
   "id": "712813f3",
   "metadata": {},
   "outputs": [
    {
     "name": "stdout",
     "output_type": "stream",
     "text": [
      "9 odd number\n"
     ]
    }
   ],
   "source": [
    "if (i) == 0:\n",
    "    print(number, \"even number\")\n",
    "else:\n",
    "    print(number, \"odd number\")"
   ]
  },
  {
   "cell_type": "code",
   "execution_count": null,
   "id": "37cab28a",
   "metadata": {},
   "outputs": [],
   "source": []
  }
 ],
 "metadata": {
  "kernelspec": {
   "display_name": "Python 3",
   "language": "python",
   "name": "python3"
  },
  "language_info": {
   "codemirror_mode": {
    "name": "ipython",
    "version": 3
   },
   "file_extension": ".py",
   "mimetype": "text/x-python",
   "name": "python",
   "nbconvert_exporter": "python",
   "pygments_lexer": "ipython3",
   "version": "3.8.8"
  }
 },
 "nbformat": 4,
 "nbformat_minor": 5
}
