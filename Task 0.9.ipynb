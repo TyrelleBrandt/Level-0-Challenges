{
 "cells": [
  {
   "cell_type": "code",
   "execution_count": 14,
   "id": "7976a0aa",
   "metadata": {},
   "outputs": [
    {
     "name": "stdout",
     "output_type": "stream",
     "text": [
      "Enter a word: why\n"
     ]
    }
   ],
   "source": [
    "name = input('Enter a word: ')"
   ]
  },
  {
   "cell_type": "code",
   "execution_count": 15,
   "id": "d60d0b8b",
   "metadata": {},
   "outputs": [
    {
     "name": "stdout",
     "output_type": "stream",
     "text": [
      "why\n"
     ]
    }
   ],
   "source": [
    "word = name.lower()\n",
    "print(word)"
   ]
  },
  {
   "cell_type": "code",
   "execution_count": 16,
   "id": "dc66648e",
   "metadata": {},
   "outputs": [
    {
     "name": "stdout",
     "output_type": "stream",
     "text": [
      "No vowels: \n",
      "none\n"
     ]
    }
   ],
   "source": [
    "if 'a' in word or 'e' in word or 'i' in word or 'o' in word or 'u' in word:\n",
    "    print('Vowels: ')\n",
    "else:\n",
    "    print('No vowels: ')\n",
    "if 'a' in word:\n",
    "    print('a')\n",
    "if 'e' in word:\n",
    "    print('e')\n",
    "if 'i' in word:\n",
    "    print('i')\n",
    "if 'o' in word:\n",
    "    print('o')\n",
    "if 'u' in word:\n",
    "    print('u')\n",
    "else:\n",
    "    print('none')"
   ]
  },
  {
   "cell_type": "code",
   "execution_count": null,
   "id": "dac655eb",
   "metadata": {},
   "outputs": [],
   "source": []
  }
 ],
 "metadata": {
  "kernelspec": {
   "display_name": "Python 3",
   "language": "python",
   "name": "python3"
  },
  "language_info": {
   "codemirror_mode": {
    "name": "ipython",
    "version": 3
   },
   "file_extension": ".py",
   "mimetype": "text/x-python",
   "name": "python",
   "nbconvert_exporter": "python",
   "pygments_lexer": "ipython3",
   "version": "3.8.8"
  }
 },
 "nbformat": 4,
 "nbformat_minor": 5
}
